{
 "cells": [
  {
   "cell_type": "code",
   "execution_count": 1,
   "metadata": {},
   "outputs": [
    {
     "name": "stdout",
     "output_type": "stream",
     "text": [
      "Requirement already satisfied: networkx in /Users/ananthgoyal/.pyenv/versions/3.8-dev/lib/python3.8/site-packages (2.8.8)\n",
      "\u001b[33mWARNING: You are using pip version 21.1.1; however, version 22.3.1 is available.\n",
      "You should consider upgrading via the '/Users/ananthgoyal/.pyenv/versions/3.8-dev/bin/python -m pip install --upgrade pip' command.\u001b[0m\n",
      "Note: you may need to restart the kernel to use updated packages.\n",
      "Requirement already satisfied: numpy in /Users/ananthgoyal/.pyenv/versions/3.8-dev/lib/python3.8/site-packages (1.23.4)\n",
      "\u001b[33mWARNING: You are using pip version 21.1.1; however, version 22.3.1 is available.\n",
      "You should consider upgrading via the '/Users/ananthgoyal/.pyenv/versions/3.8-dev/bin/python -m pip install --upgrade pip' command.\u001b[0m\n",
      "Note: you may need to restart the kernel to use updated packages.\n",
      "Requirement already satisfied: tqdm in /Users/ananthgoyal/.pyenv/versions/3.8-dev/lib/python3.8/site-packages (4.64.1)\n",
      "\u001b[33mWARNING: You are using pip version 21.1.1; however, version 22.3.1 is available.\n",
      "You should consider upgrading via the '/Users/ananthgoyal/.pyenv/versions/3.8-dev/bin/python -m pip install --upgrade pip' command.\u001b[0m\n",
      "Note: you may need to restart the kernel to use updated packages.\n",
      "Requirement already satisfied: matplotlib in /Users/ananthgoyal/.pyenv/versions/3.8-dev/lib/python3.8/site-packages (3.6.2)\n",
      "Requirement already satisfied: packaging>=20.0 in /Users/ananthgoyal/.pyenv/versions/3.8-dev/lib/python3.8/site-packages (from matplotlib) (21.3)\n",
      "Requirement already satisfied: contourpy>=1.0.1 in /Users/ananthgoyal/.pyenv/versions/3.8-dev/lib/python3.8/site-packages (from matplotlib) (1.0.6)\n",
      "Requirement already satisfied: kiwisolver>=1.0.1 in /Users/ananthgoyal/.pyenv/versions/3.8-dev/lib/python3.8/site-packages (from matplotlib) (1.4.4)\n",
      "Requirement already satisfied: numpy>=1.19 in /Users/ananthgoyal/.pyenv/versions/3.8-dev/lib/python3.8/site-packages (from matplotlib) (1.23.4)\n",
      "Requirement already satisfied: pyparsing>=2.2.1 in /Users/ananthgoyal/.pyenv/versions/3.8-dev/lib/python3.8/site-packages (from matplotlib) (3.0.9)\n",
      "Requirement already satisfied: python-dateutil>=2.7 in /Users/ananthgoyal/.pyenv/versions/3.8-dev/lib/python3.8/site-packages (from matplotlib) (2.8.2)\n",
      "Requirement already satisfied: cycler>=0.10 in /Users/ananthgoyal/.pyenv/versions/3.8-dev/lib/python3.8/site-packages (from matplotlib) (0.11.0)\n",
      "Requirement already satisfied: pillow>=6.2.0 in /Users/ananthgoyal/.pyenv/versions/3.8-dev/lib/python3.8/site-packages (from matplotlib) (9.3.0)\n",
      "Requirement already satisfied: fonttools>=4.22.0 in /Users/ananthgoyal/.pyenv/versions/3.8-dev/lib/python3.8/site-packages (from matplotlib) (4.38.0)\n",
      "Requirement already satisfied: six>=1.5 in /Users/ananthgoyal/.pyenv/versions/3.8-dev/lib/python3.8/site-packages (from python-dateutil>=2.7->matplotlib) (1.16.0)\n",
      "\u001b[33mWARNING: You are using pip version 21.1.1; however, version 22.3.1 is available.\n",
      "You should consider upgrading via the '/Users/ananthgoyal/.pyenv/versions/3.8-dev/bin/python -m pip install --upgrade pip' command.\u001b[0m\n",
      "Note: you may need to restart the kernel to use updated packages.\n"
     ]
    }
   ],
   "source": [
    "# Install packages\n",
    "%pip install networkx\n",
    "%pip install numpy\n",
    "%pip install tqdm\n",
    "%pip install matplotlib"
   ]
  },
  {
   "cell_type": "code",
   "execution_count": 2,
   "metadata": {},
   "outputs": [
    {
     "name": "stderr",
     "output_type": "stream",
     "text": [
      "/Users/ananthgoyal/.pyenv/versions/3.8-dev/lib/python3.8/site-packages/tqdm/auto.py:22: TqdmWarning: IProgress not found. Please update jupyter and ipywidgets. See https://ipywidgets.readthedocs.io/en/stable/user_install.html\n",
      "  from .autonotebook import tqdm as notebook_tqdm\n"
     ]
    }
   ],
   "source": [
    "# The starter code is short and simple, take a look!\n",
    "from starter import *"
   ]
  },
  {
   "cell_type": "markdown",
   "metadata": {},
   "source": [
    "# Phase 1 - Create Inputs"
   ]
  },
  {
   "cell_type": "code",
   "execution_count": 3,
   "metadata": {},
   "outputs": [],
   "source": [
    "# Add edges with G.add_edge(u, v, weight=w)\n",
    "# Idea: consider making the inputs with a solution in mind, \n",
    "# such that you know the solution when the outputs are released\n",
    "\n",
    "def small(G: nx.Graph):\n",
    "    # TODO add edges to complete the small input\n",
    "    for i in range(1, 100):\n",
    "        for j in range(i + 1, 100):\n",
    "            G.add_edge(i, j, weight = (i + j)*2)\n",
    "    \n",
    "def medium(G: nx.Graph):\n",
    "    # TODO add edges to complete the medium input\n",
    "    pass\n",
    "    \n",
    "def large(G: nx.Graph):\n",
    "    # TODO add edges to complete the large input\n",
    "    pass"
   ]
  },
  {
   "cell_type": "code",
   "execution_count": 7,
   "metadata": {},
   "outputs": [
    {
     "data": {
      "text/plain": [
       "\"\\nG = nx.empty_graph(N_MEDIUM)\\nmedium(G)\\nwrite_input(G, 'medium.in')\\n\\nG = nx.empty_graph(N_LARGE)\\nlarge(G)\\nwrite_input(G, 'large.in')\""
      ]
     },
     "execution_count": 7,
     "metadata": {},
     "output_type": "execute_result"
    }
   ],
   "source": [
    "G = nx.empty_graph(N_SMALL)\n",
    "small(G)\n",
    "write_input(G, 'small.in', overwrite=True)\n",
    "visualize(G)\n",
    "\n",
    "'''\n",
    "G = nx.empty_graph(N_MEDIUM)\n",
    "medium(G)\n",
    "write_input(G, 'medium.in')\n",
    "\n",
    "G = nx.empty_graph(N_LARGE)\n",
    "large(G)\n",
    "write_input(G, 'large.in')'''"
   ]
  },
  {
   "cell_type": "markdown",
   "metadata": {},
   "source": [
    "# Phase 2 - Implement your Solver"
   ]
  },
  {
   "cell_type": "code",
   "execution_count": null,
   "metadata": {},
   "outputs": [],
   "source": [
    "def solve(G: nx.Graph):\n",
    "    # TODO implement this function with your solver\n",
    "    # Assign a team to v with G.nodes[v]['team'] = team_id\n",
    "    # Access the team of v with team_id = G.nodes[v]['team']\n",
    "    pass"
   ]
  },
  {
   "cell_type": "code",
   "execution_count": null,
   "metadata": {},
   "outputs": [],
   "source": [
    "G = read_input('small.in')\n",
    "solve(G)\n",
    "validate_output(G)\n",
    "visualize(G)\n",
    "score(G)"
   ]
  },
  {
   "cell_type": "code",
   "execution_count": null,
   "metadata": {},
   "outputs": [],
   "source": [
    "run(solve, 'small.in', 'small.out')"
   ]
  },
  {
   "cell_type": "code",
   "execution_count": null,
   "metadata": {},
   "outputs": [],
   "source": [
    "run_all(solve, 'input', 'output')\n",
    "tar('output')"
   ]
  }
 ],
 "metadata": {
  "kernelspec": {
   "display_name": "Python 3 (ipykernel)",
   "language": "python",
   "name": "python3"
  },
  "language_info": {
   "codemirror_mode": {
    "name": "ipython",
    "version": 3
   },
   "file_extension": ".py",
   "mimetype": "text/x-python",
   "name": "python",
   "nbconvert_exporter": "python",
   "pygments_lexer": "ipython3",
   "version": "3.8.12+"
  }
 },
 "nbformat": 4,
 "nbformat_minor": 1
}
